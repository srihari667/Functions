{
  "nbformat": 4,
  "nbformat_minor": 0,
  "metadata": {
    "colab": {
      "provenance": []
    },
    "kernelspec": {
      "name": "python3",
      "display_name": "Python 3"
    },
    "language_info": {
      "name": "python"
    }
  },
  "cells": [
    {
      "cell_type": "markdown",
      "source": [
        "#Functions"
      ],
      "metadata": {
        "id": "SL2BV_k9ydO2"
      }
    },
    {
      "cell_type": "markdown",
      "source": [
        "1. What is the difference between a function and a method in Python?\n",
        "\n",
        "  - Function: A block of reusable code defined using def, which operates independently.\n",
        "\n",
        "  - Method: A function that is associated with an object and is called using the object."
      ],
      "metadata": {
        "id": "Cfpaziwfyh2B"
      }
    },
    {
      "cell_type": "markdown",
      "source": [
        "2. Explain the concept of function arguments and parameters in Python.\n",
        "  - Parameter: Variable in the function definition.\n",
        "\n",
        "  - Argument: Value passed when calling the function."
      ],
      "metadata": {
        "id": "SCUOKziyytX2"
      }
    },
    {
      "cell_type": "markdown",
      "source": [
        "3. What are the different ways to define and call a function in Python?\n",
        "  -  functions can be defined using the def keyword for named functions or using lambda for anonymous functions. Functions are called by using their name followed by parentheses, optionally passing arguments."
      ],
      "metadata": {
        "id": "z_8jvDb5y5gs"
      }
    },
    {
      "cell_type": "markdown",
      "source": [
        "4. What is the purpose of the `return` statement in a Python function?\n",
        "  - The return statement is used to send a result or value back to the caller of the function. It also terminates the function's execution. Without it, the function returns None by default."
      ],
      "metadata": {
        "id": "3oxzV52DzZp_"
      }
    },
    {
      "cell_type": "markdown",
      "source": [
        "5. What are iterators in Python and how do they differ from iterables?\n",
        "  - Iterable: Object with __iter__() method.\n",
        "\n",
        "  - Iterator: Object with __next__() method."
      ],
      "metadata": {
        "id": "fWLN1U2ezkx8"
      }
    },
    {
      "cell_type": "markdown",
      "source": [
        "6. Explain the concept of generators in Python and how they are defined.\n",
        "  - Generators are a special type of iterable in Python used to produce a sequence of values lazily, meaning one at a time and only when needed. They are defined using functions with the yield keyword instead of return, which allows the function to pause and resume its state between executions."
      ],
      "metadata": {
        "id": "AgLeHgSCz4DU"
      }
    },
    {
      "cell_type": "markdown",
      "source": [
        "7. What are the advantages of using generators over regular functions?\n",
        "  - Generators are memory efficient and support lazy evaluation, meaning they yield values one at a time as needed. This leads to better performance when handling large datasets or streams of data."
      ],
      "metadata": {
        "id": "779CsfaU0Lsm"
      }
    },
    {
      "cell_type": "markdown",
      "source": [
        "8. What is a lambda function in Python and when is it typically used?\n",
        "  - A lambda function in Python is an anonymous, single-expression function defined using the lambda keyword. It is typically used for short, simple operations, especially when passing functions as arguments to higher-order functions like map(), filter(), or sorted()\n",
        "\n",
        "     Ex: square = lambda x: x ** 2"
      ],
      "metadata": {
        "id": "eViRAORV0f45"
      }
    },
    {
      "cell_type": "markdown",
      "source": [
        "9. Explain the purpose and usage of the `map()` function in Python.\n",
        "  - The map() function in Python is used to apply a given function to all items in an iterable (like a list or tuple), returning a new map object. It allows for element-wise transformations without the need for explicit loops, making the code more concise and efficient."
      ],
      "metadata": {
        "id": "uUdv_7Uy00fr"
      }
    },
    {
      "cell_type": "markdown",
      "source": [
        "10. What is the difference between `map()`, `reduce()`, and `filter()` functions in Python?\n",
        "\n",
        "  - map() applies a function to each item in an iterable and returns a new iterable with the results.\n",
        "\n",
        "  - filter() selects items from an iterable based on a condition and returns only those that satisfy it.\n",
        "\n",
        "  - reduce() applies a function cumulatively to the items in an iterable to reduce it to a single value. It requires importing from the functools module."
      ],
      "metadata": {
        "id": "FF37JzOp1Gba"
      }
    },
    {
      "cell_type": "markdown",
      "source": [
        "11. Using pen & Paper write the internal mechanism for sum operation using  reduce function on this given\n",
        "list:[47,11,42,13];\n",
        "![1000198275.jpg](data:image/jpeg;base64,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)\n",
        "\n"
      ],
      "metadata": {
        "id": "ni-oVv411UWb"
      }
    },
    {
      "cell_type": "markdown",
      "source": [
        "#Practical Questions"
      ],
      "metadata": {
        "id": "-O0qRKn772x3"
      }
    },
    {
      "cell_type": "code",
      "source": [
        "'''\n",
        "1. Write a Python function that takes a list of numbers as input and returns the sum of all even numbers in\n",
        "the list.\n",
        "'''\n",
        "def sum_of_even_numbers(numbers):\n",
        "    return sum(num for num in numbers if num % 2 == 0)\n",
        "\n",
        "num_list = [10, 15, 20, 25, 30]\n",
        "result = sum_of_even_numbers(num_list)\n",
        "print(\"Sum of even numbers:\", result)\n",
        "\n"
      ],
      "metadata": {
        "colab": {
          "base_uri": "https://localhost:8080/"
        },
        "id": "-OPNVMYv79B9",
        "outputId": "37dab30e-ca2c-47cc-d1b1-5845b5326a37"
      },
      "execution_count": null,
      "outputs": [
        {
          "output_type": "stream",
          "name": "stdout",
          "text": [
            "Sum of even numbers: 60\n"
          ]
        }
      ]
    },
    {
      "cell_type": "code",
      "source": [
        "#2. Create a Python function that accepts a string and returns the reverse of that string\n",
        "\n",
        "def reverse_string(text):\n",
        "    return text[::-1]\n",
        "\n",
        "input_text = \"Sriharikrishna\"\n",
        "reversed_text = reverse_string(input_text)\n",
        "print(\"Reversed string:\", reversed_text)\n"
      ],
      "metadata": {
        "colab": {
          "base_uri": "https://localhost:8080/"
        },
        "id": "ir7uCjj69TLb",
        "outputId": "83d8518c-163e-4036-aeb0-768b7c43cf1a"
      },
      "execution_count": null,
      "outputs": [
        {
          "output_type": "stream",
          "name": "stdout",
          "text": [
            "Reversed string: anhsirkirahirS\n"
          ]
        }
      ]
    },
    {
      "cell_type": "code",
      "source": [
        "'''\n",
        "3. Implement a Python function that takes a list of integers and returns a new list containing the squares of\n",
        "each number.\n",
        "'''\n",
        "\n",
        "def square_list(numbers):\n",
        "    return [num ** 2 for num in numbers]\n",
        "\n",
        "num_list = [2, 3, 4, 5]\n",
        "squared = square_list(num_list)\n",
        "print(\"Squared list:\", squared)\n"
      ],
      "metadata": {
        "colab": {
          "base_uri": "https://localhost:8080/"
        },
        "id": "R3Bpavd2-V5C",
        "outputId": "540616b9-6f00-4882-ea29-bdf6238882b3"
      },
      "execution_count": null,
      "outputs": [
        {
          "output_type": "stream",
          "name": "stdout",
          "text": [
            "Squared list: [4, 9, 16, 25]\n"
          ]
        }
      ]
    },
    {
      "cell_type": "code",
      "source": [
        "#4. Write a Python function that checks if a given number is prime or not from 1 to 200\n",
        "\n",
        "def is_prime(n):\n",
        "    if n < 2:\n",
        "        return False\n",
        "    for i in range(2, int(n**0.5)+1):\n",
        "        if n % i == 0:\n",
        "            return False\n",
        "    return True\n",
        "\n",
        "primes = [n for n in range(1, 201) if is_prime(n)]\n",
        "print(primes)\n"
      ],
      "metadata": {
        "colab": {
          "base_uri": "https://localhost:8080/"
        },
        "id": "mueode5k-kUS",
        "outputId": "f1d899ad-a153-4a77-fcec-7643714362eb"
      },
      "execution_count": null,
      "outputs": [
        {
          "output_type": "stream",
          "name": "stdout",
          "text": [
            "[2, 3, 5, 7, 11, 13, 17, 19, 23, 29, 31, 37, 41, 43, 47, 53, 59, 61, 67, 71, 73, 79, 83, 89, 97, 101, 103, 107, 109, 113, 127, 131, 137, 139, 149, 151, 157, 163, 167, 173, 179, 181, 191, 193, 197, 199]\n"
          ]
        }
      ]
    },
    {
      "cell_type": "code",
      "source": [
        "'''\n",
        "5. Create an iterator class in Python that generates the Fibonacci sequence up to a specified number of\n",
        "terms.\n",
        "'''\n",
        "\n",
        "class Fibonacci:\n",
        "    def __init__(self, terms):\n",
        "        self.terms = terms\n",
        "        self.a, self.b = 0, 1\n",
        "        self.count = 0\n",
        "\n",
        "    def __iter__(self):\n",
        "        return self\n",
        "\n",
        "    def __next__(self):\n",
        "        if self.count < self.terms:\n",
        "            value = self.a\n",
        "            self.a, self.b = self.b, self.a + self.b\n",
        "            self.count += 1\n",
        "            return value\n",
        "        else:\n",
        "            raise StopIteration\n",
        "\n",
        "fib_sequence = list(Fibonacci(10))\n",
        "print(fib_sequence)\n",
        "\n"
      ],
      "metadata": {
        "colab": {
          "base_uri": "https://localhost:8080/"
        },
        "id": "rQt9CwGP_R7i",
        "outputId": "38d44962-3d7a-486d-e65a-54defb6d9c8e"
      },
      "execution_count": null,
      "outputs": [
        {
          "output_type": "stream",
          "name": "stdout",
          "text": [
            "[0, 1, 1, 2, 3, 5, 8, 13, 21, 34]\n"
          ]
        }
      ]
    },
    {
      "cell_type": "code",
      "source": [
        "#6. Write a generator function in Python that yields the powers of 2 up to a given exponent.\n",
        "\n",
        "def powers_of_two(max_exp):\n",
        "    for i in range(max_exp + 1):\n",
        "        yield 2 ** i\n",
        "\n",
        "result = list(powers_of_two(5))\n",
        "print(result)\n"
      ],
      "metadata": {
        "colab": {
          "base_uri": "https://localhost:8080/"
        },
        "id": "QT3DauomCxaW",
        "outputId": "77c24913-5e31-43da-80c9-4c67f6187946"
      },
      "execution_count": null,
      "outputs": [
        {
          "output_type": "stream",
          "name": "stdout",
          "text": [
            "[1, 2, 4, 8, 16, 32]\n"
          ]
        }
      ]
    },
    {
      "cell_type": "code",
      "source": [
        "#7. Implement a generator function that reads a file line by line and yields each line as a string.\n",
        "\n",
        "def read_lines(file_path):\n",
        "    with open(file_path) as file:\n",
        "        for line in file:\n",
        "            yield line.strip()\n"
      ],
      "metadata": {
        "id": "oMYkYOL9C-3L"
      },
      "execution_count": null,
      "outputs": []
    },
    {
      "cell_type": "code",
      "source": [
        "#8. Use a lambda function in Python to sort a list of tuples based on the second element of each tuple.\n",
        "\n",
        "data = [(1, 3), (4, 1), (5, 2), (2, 0)]\n",
        "sorted_data = sorted(data, key=lambda x: x[1])\n",
        "\n",
        "print(sorted_data)\n"
      ],
      "metadata": {
        "colab": {
          "base_uri": "https://localhost:8080/"
        },
        "id": "lPcFuUQbDUWF",
        "outputId": "4ae72cc2-5ade-4c7b-9f68-912d79ad852c"
      },
      "execution_count": null,
      "outputs": [
        {
          "output_type": "stream",
          "name": "stdout",
          "text": [
            "[(2, 0), (4, 1), (5, 2), (1, 3)]\n"
          ]
        }
      ]
    },
    {
      "cell_type": "code",
      "source": [
        "#9. Write a Python program that uses `map()` to convert a list of temperatures from Celsius to Fahrenheit.\n",
        "\n",
        "\n",
        "celsius = [0, 10, 20, 30, 40]\n",
        "fahrenheit = list(map(lambda c: (c * 9/5) + 32, celsius))\n",
        "\n",
        "print(fahrenheit)\n"
      ],
      "metadata": {
        "colab": {
          "base_uri": "https://localhost:8080/"
        },
        "id": "EZdPisJqDso-",
        "outputId": "13fe1ae2-cfd4-4649-8cb4-c92caeb66134"
      },
      "execution_count": null,
      "outputs": [
        {
          "output_type": "stream",
          "name": "stdout",
          "text": [
            "[32.0, 50.0, 68.0, 86.0, 104.0]\n"
          ]
        }
      ]
    },
    {
      "cell_type": "code",
      "source": [
        "#10. Create a Python program that uses `filter()` to remove all the vowels from a given string.\n",
        "\n",
        "\n",
        "text = \"Hello World\"\n",
        "no_vowels = ''.join(filter(lambda ch: ch.lower() not in 'aeiou', text))\n",
        "\n",
        "print(no_vowels)\n"
      ],
      "metadata": {
        "colab": {
          "base_uri": "https://localhost:8080/"
        },
        "id": "l02ihN-dGQu8",
        "outputId": "5cc9a65a-e239-4daf-b033-7e2590135b03"
      },
      "execution_count": null,
      "outputs": [
        {
          "output_type": "stream",
          "name": "stdout",
          "text": [
            "Hll Wrld\n"
          ]
        }
      ]
    },
    {
      "cell_type": "code",
      "source": [
        "'''\n",
        "11. Imagine an accounting routine used in a book shop. It works on a list with sublists, which look like this:\n",
        "\n",
        "Write a Python program, which returns a list with 2-tuples. Each tuple consists of the order number and the\n",
        "product of the price per item and the quantity. The product should be increased by 10,- € if the value of the\n",
        "order is smaller than 100,00 €.\n",
        "\n",
        "Write a Python program using lambda and map.\n",
        "'''\n",
        "\n",
        "orders = [\n",
        "    [34587, 'Learning Python', 4, 40.95],\n",
        "    [98762, 'Programming in C', 5, 19.95],\n",
        "    [77226, 'Software Engineering', 3, 43.50],\n",
        "    [88112, 'Python Cookbook', 3, 59.95]\n",
        "]\n",
        "\n",
        "result = list(map(lambda order:\n",
        "    (order[0], order[2]*order[3] + (10 if order[2]*order[3] < 100 else 0)), orders))\n",
        "print(result)\n"
      ],
      "metadata": {
        "colab": {
          "base_uri": "https://localhost:8080/"
        },
        "id": "XDWU3-k3Geuk",
        "outputId": "e4521561-abe1-46a1-98ee-60df8f82da29"
      },
      "execution_count": null,
      "outputs": [
        {
          "output_type": "stream",
          "name": "stdout",
          "text": [
            "[(34587, 163.8), (98762, 109.75), (77226, 130.5), (88112, 179.85000000000002)]\n"
          ]
        }
      ]
    },
    {
      "cell_type": "code",
      "source": [],
      "metadata": {
        "id": "iyawjugHGxCc"
      },
      "execution_count": null,
      "outputs": []
    }
  ]
}